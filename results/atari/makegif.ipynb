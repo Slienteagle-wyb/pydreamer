{
 "cells": [
  {
   "cell_type": "code",
   "execution_count": 24,
   "metadata": {
    "pycharm": {
     "name": "#%%\n"
    }
   },
   "outputs": [],
   "source": [
    "from typing import Dict\n",
    "import tempfile\n",
    "from pathlib import Path\n",
    "import numpy as np\n",
    "from mlflow.tracking import MlflowClient\n",
    "import cv2\n",
    "import matplotlib.pylab as plt\n",
    "\n",
    "FPS = 10\n",
    "B, T = 5, 50\n",
    "\n",
    "def download_artifact_npz(run_id, artifact_path) -> Dict[str, np.ndarray]:\n",
    "    client = MlflowClient()\n",
    "    with tempfile.TemporaryDirectory() as tmpdir:\n",
    "        # path = client.download_artifacts(run_id, artifact_path, tmpdir)\n",
    "        path = f'/home/yibo/Documents/pydreamer/mlruns/0/df729fab57ec4fbe97ca70c073053728/artifacts/d2_wm_dream/0158001.npz'\n",
    "        with Path(path).open('rb') as f:\n",
    "            data = np.load(f)\n",
    "            return {k: data[k] for k in data.keys()}  # type: ignore\n",
    "\n",
    "def encode_gif(frames, fps):\n",
    "    # Copyright Danijar\n",
    "    from subprocess import Popen, PIPE\n",
    "    h, w, c = frames[0].shape\n",
    "    pxfmt = {1: 'gray', 3: 'rgb24'}[c]\n",
    "    cmd = ' '.join([\n",
    "        'ffmpeg -y -f rawvideo -vcodec rawvideo',\n",
    "        f'-r {fps:.02f} -s {w}x{h} -pix_fmt {pxfmt} -i - -filter_complex',\n",
    "        '[0:v]split[x][z];[z]palettegen[y];[x]fifo[x];[x][y]paletteuse',\n",
    "        f'-r {fps:.02f} -f gif -'])\n",
    "    proc = Popen(cmd.split(' '), stdin=PIPE, stdout=PIPE, stderr=PIPE)\n",
    "    for image in frames:\n",
    "        proc.stdin.write(image.tobytes())  # type: ignore\n",
    "    out, err = proc.communicate()\n",
    "    if proc.returncode:\n",
    "        raise IOError('\\n'.join([' '.join(cmd), err.decode('utf8')]))\n",
    "    del proc\n",
    "    return out\n",
    "\n",
    "def make_gif(env_name, run_id, step, fps=FPS):\n",
    "    dest_path = f'figures/dream_{env_name}_{step}.gif'\n",
    "    artifact = f'd2_wm_dream/{step}.npz'\n",
    "    data = download_artifact_npz(run_id, artifact)\n",
    "    img = data['image_pred']\n",
    "    img = img[:B, :T].reshape((-1, 40, 40, 1))\n",
    "    gif = encode_gif(img, fps)\n",
    "    with Path(dest_path).open('wb') as f:\n",
    "        f.write(gif)\n",
    "        print('success make the gif')"
   ]
  },
  {
   "cell_type": "code",
   "execution_count": null,
   "metadata": {
    "pycharm": {
     "name": "#%%\n"
    }
   },
   "outputs": [],
   "source": [
    "# Montezuma\n",
    "\n",
    "make_gif('montezuma', '599e69d178ca4f65a10423d272f9f45d', '0500001')"
   ]
  },
  {
   "cell_type": "code",
   "execution_count": null,
   "metadata": {
    "pycharm": {
     "name": "#%%\n"
    }
   },
   "outputs": [],
   "source": [
    "# Breakout\n",
    "\n",
    "make_gif('breakout', '83e5def4975242ccbf16a3ca8f62a674', '0500001')"
   ]
  },
  {
   "cell_type": "code",
   "execution_count": null,
   "metadata": {
    "pycharm": {
     "name": "#%%\n"
    }
   },
   "outputs": [],
   "source": [
    "# Space invaders\n",
    "\n",
    "make_gif('invaders', '6d57d49ab844475cbb83b606816b01fe', '0500001')"
   ]
  },
  {
   "cell_type": "code",
   "execution_count": null,
   "metadata": {
    "pycharm": {
     "name": "#%%\n"
    }
   },
   "outputs": [],
   "source": [
    "# DMC quadruped\n",
    "\n",
    "make_gif('quadruped', 'ff6cb24c04de4e6b821bb811c855d207', '0300001')"
   ]
  },
  {
   "cell_type": "code",
   "execution_count": null,
   "metadata": {
    "pycharm": {
     "name": "#%%\n"
    }
   },
   "outputs": [],
   "source": [
    "# DMLab goals small\n",
    "\n",
    "make_gif('dmlab', '6f78cce067464e8aa4bcb6f35a1a4386', '0161001', fps=8)"
   ]
  },
  {
   "cell_type": "code",
   "execution_count": 7,
   "metadata": {
    "pycharm": {
     "name": "#%%\n"
    }
   },
   "outputs": [
    {
     "ename": "MlflowException",
     "evalue": "Run '123b575400874f5db75ac7887f4e61c0' not found",
     "output_type": "error",
     "traceback": [
      "\u001B[0;31m---------------------------------------------------------------------------\u001B[0m",
      "\u001B[0;31mMlflowException\u001B[0m                           Traceback (most recent call last)",
      "Input \u001B[0;32mIn [7]\u001B[0m, in \u001B[0;36m<cell line: 3>\u001B[0;34m()\u001B[0m\n\u001B[1;32m      1\u001B[0m \u001B[38;5;66;03m# MiniWorld ScavengerHunt\u001B[39;00m\n\u001B[0;32m----> 3\u001B[0m \u001B[43mmake_gif\u001B[49m\u001B[43m(\u001B[49m\u001B[38;5;124;43m'\u001B[39;49m\u001B[38;5;124;43mscavenger\u001B[39;49m\u001B[38;5;124;43m'\u001B[39;49m\u001B[43m,\u001B[49m\u001B[43m \u001B[49m\u001B[38;5;124;43m'\u001B[39;49m\u001B[38;5;124;43m123b575400874f5db75ac7887f4e61c0\u001B[39;49m\u001B[38;5;124;43m'\u001B[39;49m\u001B[43m,\u001B[49m\u001B[43m \u001B[49m\u001B[38;5;124;43m'\u001B[39;49m\u001B[38;5;124;43m0900001\u001B[39;49m\u001B[38;5;124;43m'\u001B[39;49m\u001B[43m)\u001B[49m\n",
      "Input \u001B[0;32mIn [2]\u001B[0m, in \u001B[0;36mmake_gif\u001B[0;34m(env_name, run_id, step, fps)\u001B[0m\n\u001B[1;32m     38\u001B[0m dest_path \u001B[38;5;241m=\u001B[39m \u001B[38;5;124mf\u001B[39m\u001B[38;5;124m'\u001B[39m\u001B[38;5;124mfigures/dream_\u001B[39m\u001B[38;5;132;01m{\u001B[39;00menv_name\u001B[38;5;132;01m}\u001B[39;00m\u001B[38;5;124m_\u001B[39m\u001B[38;5;132;01m{\u001B[39;00mstep\u001B[38;5;132;01m}\u001B[39;00m\u001B[38;5;124m.gif\u001B[39m\u001B[38;5;124m'\u001B[39m\n\u001B[1;32m     39\u001B[0m artifact \u001B[38;5;241m=\u001B[39m \u001B[38;5;124mf\u001B[39m\u001B[38;5;124m'\u001B[39m\u001B[38;5;124md2_wm_dream/\u001B[39m\u001B[38;5;132;01m{\u001B[39;00mstep\u001B[38;5;132;01m}\u001B[39;00m\u001B[38;5;124m.npz\u001B[39m\u001B[38;5;124m'\u001B[39m\n\u001B[0;32m---> 40\u001B[0m data \u001B[38;5;241m=\u001B[39m \u001B[43mdownload_artifact_npz\u001B[49m\u001B[43m(\u001B[49m\u001B[43mrun_id\u001B[49m\u001B[43m,\u001B[49m\u001B[43m \u001B[49m\u001B[43martifact\u001B[49m\u001B[43m)\u001B[49m\n\u001B[1;32m     41\u001B[0m img \u001B[38;5;241m=\u001B[39m data[\u001B[38;5;124m'\u001B[39m\u001B[38;5;124mimage_pred\u001B[39m\u001B[38;5;124m'\u001B[39m]\n\u001B[1;32m     42\u001B[0m \u001B[38;5;28mprint\u001B[39m(img\u001B[38;5;241m.\u001B[39mshape)\n",
      "Input \u001B[0;32mIn [2]\u001B[0m, in \u001B[0;36mdownload_artifact_npz\u001B[0;34m(run_id, artifact_path)\u001B[0m\n\u001B[1;32m     11\u001B[0m client \u001B[38;5;241m=\u001B[39m MlflowClient()\n\u001B[1;32m     12\u001B[0m \u001B[38;5;28;01mwith\u001B[39;00m tempfile\u001B[38;5;241m.\u001B[39mTemporaryDirectory() \u001B[38;5;28;01mas\u001B[39;00m tmpdir:\n\u001B[0;32m---> 13\u001B[0m     path \u001B[38;5;241m=\u001B[39m \u001B[43mclient\u001B[49m\u001B[38;5;241;43m.\u001B[39;49m\u001B[43mdownload_artifacts\u001B[49m\u001B[43m(\u001B[49m\u001B[43mrun_id\u001B[49m\u001B[43m,\u001B[49m\u001B[43m \u001B[49m\u001B[43martifact_path\u001B[49m\u001B[43m,\u001B[49m\u001B[43m \u001B[49m\u001B[43mtmpdir\u001B[49m\u001B[43m)\u001B[49m\n\u001B[1;32m     14\u001B[0m     \u001B[38;5;28;01mwith\u001B[39;00m Path(path)\u001B[38;5;241m.\u001B[39mopen(\u001B[38;5;124m'\u001B[39m\u001B[38;5;124mrb\u001B[39m\u001B[38;5;124m'\u001B[39m) \u001B[38;5;28;01mas\u001B[39;00m f:\n\u001B[1;32m     15\u001B[0m         data \u001B[38;5;241m=\u001B[39m np\u001B[38;5;241m.\u001B[39mload(f)\n",
      "File \u001B[0;32m~/miniconda3/envs/rlpyt/lib/python3.8/site-packages/mlflow/tracking/client.py:1413\u001B[0m, in \u001B[0;36mMlflowClient.download_artifacts\u001B[0;34m(self, run_id, path, dst_path)\u001B[0m\n\u001B[1;32m   1369\u001B[0m \u001B[38;5;28;01mdef\u001B[39;00m \u001B[38;5;21mdownload_artifacts\u001B[39m(\u001B[38;5;28mself\u001B[39m, run_id: \u001B[38;5;28mstr\u001B[39m, path: \u001B[38;5;28mstr\u001B[39m, dst_path: Optional[\u001B[38;5;28mstr\u001B[39m] \u001B[38;5;241m=\u001B[39m \u001B[38;5;28;01mNone\u001B[39;00m) \u001B[38;5;241m-\u001B[39m\u001B[38;5;241m>\u001B[39m \u001B[38;5;28mstr\u001B[39m:\n\u001B[1;32m   1370\u001B[0m     \u001B[38;5;124;03m\"\"\"\u001B[39;00m\n\u001B[1;32m   1371\u001B[0m \u001B[38;5;124;03m    Download an artifact file or directory from a run to a local directory if applicable,\u001B[39;00m\n\u001B[1;32m   1372\u001B[0m \u001B[38;5;124;03m    and return a local path for it.\u001B[39;00m\n\u001B[0;32m   (...)\u001B[0m\n\u001B[1;32m   1411\u001B[0m \u001B[38;5;124;03m        Artifacts: ['features.txt']\u001B[39;00m\n\u001B[1;32m   1412\u001B[0m \u001B[38;5;124;03m    \"\"\"\u001B[39;00m\n\u001B[0;32m-> 1413\u001B[0m     \u001B[38;5;28;01mreturn\u001B[39;00m \u001B[38;5;28;43mself\u001B[39;49m\u001B[38;5;241;43m.\u001B[39;49m\u001B[43m_tracking_client\u001B[49m\u001B[38;5;241;43m.\u001B[39;49m\u001B[43mdownload_artifacts\u001B[49m\u001B[43m(\u001B[49m\u001B[43mrun_id\u001B[49m\u001B[43m,\u001B[49m\u001B[43m \u001B[49m\u001B[43mpath\u001B[49m\u001B[43m,\u001B[49m\u001B[43m \u001B[49m\u001B[43mdst_path\u001B[49m\u001B[43m)\u001B[49m\n",
      "File \u001B[0;32m~/miniconda3/envs/rlpyt/lib/python3.8/site-packages/mlflow/tracking/_tracking_service/client.py:391\u001B[0m, in \u001B[0;36mTrackingServiceClient.download_artifacts\u001B[0;34m(self, run_id, path, dst_path)\u001B[0m\n\u001B[1;32m    377\u001B[0m \u001B[38;5;28;01mdef\u001B[39;00m \u001B[38;5;21mdownload_artifacts\u001B[39m(\u001B[38;5;28mself\u001B[39m, run_id, path, dst_path\u001B[38;5;241m=\u001B[39m\u001B[38;5;28;01mNone\u001B[39;00m):\n\u001B[1;32m    378\u001B[0m     \u001B[38;5;124;03m\"\"\"\u001B[39;00m\n\u001B[1;32m    379\u001B[0m \u001B[38;5;124;03m    Download an artifact file or directory from a run to a local directory if applicable,\u001B[39;00m\n\u001B[1;32m    380\u001B[0m \u001B[38;5;124;03m    and return a local path for it.\u001B[39;00m\n\u001B[0;32m   (...)\u001B[0m\n\u001B[1;32m    389\u001B[0m \u001B[38;5;124;03m    :return: Local path of desired artifact.\u001B[39;00m\n\u001B[1;32m    390\u001B[0m \u001B[38;5;124;03m    \"\"\"\u001B[39;00m\n\u001B[0;32m--> 391\u001B[0m     \u001B[38;5;28;01mreturn\u001B[39;00m \u001B[38;5;28;43mself\u001B[39;49m\u001B[38;5;241;43m.\u001B[39;49m\u001B[43m_get_artifact_repo\u001B[49m\u001B[43m(\u001B[49m\u001B[43mrun_id\u001B[49m\u001B[43m)\u001B[49m\u001B[38;5;241m.\u001B[39mdownload_artifacts(path, dst_path)\n",
      "File \u001B[0;32m~/miniconda3/envs/rlpyt/lib/python3.8/site-packages/mlflow/tracking/_tracking_service/client.py:328\u001B[0m, in \u001B[0;36mTrackingServiceClient._get_artifact_repo\u001B[0;34m(self, run_id)\u001B[0m\n\u001B[1;32m    326\u001B[0m     \u001B[38;5;28;01mreturn\u001B[39;00m cached_repo\n\u001B[1;32m    327\u001B[0m \u001B[38;5;28;01melse\u001B[39;00m:\n\u001B[0;32m--> 328\u001B[0m     run \u001B[38;5;241m=\u001B[39m \u001B[38;5;28;43mself\u001B[39;49m\u001B[38;5;241;43m.\u001B[39;49m\u001B[43mget_run\u001B[49m\u001B[43m(\u001B[49m\u001B[43mrun_id\u001B[49m\u001B[43m)\u001B[49m\n\u001B[1;32m    329\u001B[0m     artifact_uri \u001B[38;5;241m=\u001B[39m add_databricks_profile_info_to_artifact_uri(\n\u001B[1;32m    330\u001B[0m         run\u001B[38;5;241m.\u001B[39minfo\u001B[38;5;241m.\u001B[39martifact_uri, \u001B[38;5;28mself\u001B[39m\u001B[38;5;241m.\u001B[39mtracking_uri\n\u001B[1;32m    331\u001B[0m     )\n\u001B[1;32m    332\u001B[0m     artifact_repo \u001B[38;5;241m=\u001B[39m get_artifact_repository(artifact_uri)\n",
      "File \u001B[0;32m~/miniconda3/envs/rlpyt/lib/python3.8/site-packages/mlflow/tracking/_tracking_service/client.py:69\u001B[0m, in \u001B[0;36mTrackingServiceClient.get_run\u001B[0;34m(self, run_id)\u001B[0m\n\u001B[1;32m     55\u001B[0m \u001B[38;5;124;03m\"\"\"\u001B[39;00m\n\u001B[1;32m     56\u001B[0m \u001B[38;5;124;03mFetch the run from backend store. The resulting :py:class:`Run <mlflow.entities.Run>`\u001B[39;00m\n\u001B[1;32m     57\u001B[0m \u001B[38;5;124;03mcontains a collection of run metadata -- :py:class:`RunInfo <mlflow.entities.RunInfo>`,\u001B[39;00m\n\u001B[0;32m   (...)\u001B[0m\n\u001B[1;32m     66\u001B[0m \u001B[38;5;124;03m         raises an exception.\u001B[39;00m\n\u001B[1;32m     67\u001B[0m \u001B[38;5;124;03m\"\"\"\u001B[39;00m\n\u001B[1;32m     68\u001B[0m _validate_run_id(run_id)\n\u001B[0;32m---> 69\u001B[0m \u001B[38;5;28;01mreturn\u001B[39;00m \u001B[38;5;28;43mself\u001B[39;49m\u001B[38;5;241;43m.\u001B[39;49m\u001B[43mstore\u001B[49m\u001B[38;5;241;43m.\u001B[39;49m\u001B[43mget_run\u001B[49m\u001B[43m(\u001B[49m\u001B[43mrun_id\u001B[49m\u001B[43m)\u001B[49m\n",
      "File \u001B[0;32m~/miniconda3/envs/rlpyt/lib/python3.8/site-packages/mlflow/store/tracking/file_store.py:532\u001B[0m, in \u001B[0;36mFileStore.get_run\u001B[0;34m(self, run_id)\u001B[0m\n\u001B[1;32m    528\u001B[0m \u001B[38;5;124;03m\"\"\"\u001B[39;00m\n\u001B[1;32m    529\u001B[0m \u001B[38;5;124;03mNote: Will get both active and deleted runs.\u001B[39;00m\n\u001B[1;32m    530\u001B[0m \u001B[38;5;124;03m\"\"\"\u001B[39;00m\n\u001B[1;32m    531\u001B[0m _validate_run_id(run_id)\n\u001B[0;32m--> 532\u001B[0m run_info \u001B[38;5;241m=\u001B[39m \u001B[38;5;28;43mself\u001B[39;49m\u001B[38;5;241;43m.\u001B[39;49m\u001B[43m_get_run_info\u001B[49m\u001B[43m(\u001B[49m\u001B[43mrun_id\u001B[49m\u001B[43m)\u001B[49m\n\u001B[1;32m    533\u001B[0m \u001B[38;5;28;01mif\u001B[39;00m run_info \u001B[38;5;129;01mis\u001B[39;00m \u001B[38;5;28;01mNone\u001B[39;00m:\n\u001B[1;32m    534\u001B[0m     \u001B[38;5;28;01mraise\u001B[39;00m MlflowException(\n\u001B[1;32m    535\u001B[0m         \u001B[38;5;124m\"\u001B[39m\u001B[38;5;124mRun \u001B[39m\u001B[38;5;124m'\u001B[39m\u001B[38;5;132;01m%s\u001B[39;00m\u001B[38;5;124m'\u001B[39m\u001B[38;5;124m metadata is in invalid state.\u001B[39m\u001B[38;5;124m\"\u001B[39m \u001B[38;5;241m%\u001B[39m run_id, databricks_pb2\u001B[38;5;241m.\u001B[39mINVALID_STATE\n\u001B[1;32m    536\u001B[0m     )\n",
      "File \u001B[0;32m~/miniconda3/envs/rlpyt/lib/python3.8/site-packages/mlflow/store/tracking/file_store.py:551\u001B[0m, in \u001B[0;36mFileStore._get_run_info\u001B[0;34m(self, run_uuid)\u001B[0m\n\u001B[1;32m    549\u001B[0m exp_id, run_dir \u001B[38;5;241m=\u001B[39m \u001B[38;5;28mself\u001B[39m\u001B[38;5;241m.\u001B[39m_find_run_root(run_uuid)\n\u001B[1;32m    550\u001B[0m \u001B[38;5;28;01mif\u001B[39;00m run_dir \u001B[38;5;129;01mis\u001B[39;00m \u001B[38;5;28;01mNone\u001B[39;00m:\n\u001B[0;32m--> 551\u001B[0m     \u001B[38;5;28;01mraise\u001B[39;00m MlflowException(\n\u001B[1;32m    552\u001B[0m         \u001B[38;5;124m\"\u001B[39m\u001B[38;5;124mRun \u001B[39m\u001B[38;5;124m'\u001B[39m\u001B[38;5;132;01m%s\u001B[39;00m\u001B[38;5;124m'\u001B[39m\u001B[38;5;124m not found\u001B[39m\u001B[38;5;124m\"\u001B[39m \u001B[38;5;241m%\u001B[39m run_uuid, databricks_pb2\u001B[38;5;241m.\u001B[39mRESOURCE_DOES_NOT_EXIST\n\u001B[1;32m    553\u001B[0m     )\n\u001B[1;32m    554\u001B[0m run_info \u001B[38;5;241m=\u001B[39m \u001B[38;5;28mself\u001B[39m\u001B[38;5;241m.\u001B[39m_get_run_info_from_dir(run_dir)\n\u001B[1;32m    555\u001B[0m \u001B[38;5;28;01mif\u001B[39;00m run_info\u001B[38;5;241m.\u001B[39mexperiment_id \u001B[38;5;241m!=\u001B[39m exp_id:\n",
      "\u001B[0;31mMlflowException\u001B[0m: Run '123b575400874f5db75ac7887f4e61c0' not found"
     ]
    }
   ],
   "source": [
    "# MiniWorld ScavengerHunt\n",
    "make_gif('scavenger', '123b575400874f5db75ac7887f4e61c0', '0900001')"
   ]
  },
  {
   "cell_type": "code",
   "execution_count": null,
   "metadata": {
    "pycharm": {
     "name": "#%%\n",
     "is_executing": true
    }
   },
   "outputs": [
    {
     "name": "stdout",
     "output_type": "stream",
     "text": [
      "(50, 50, 40, 40, 1)\n"
     ]
    },
    {
     "data": {
      "text/plain": "<Figure size 432x288 with 1 Axes>",
      "image/png": "[encoded data removed]"
     },
     "metadata": {
      "needs_background": "light"
     },
     "output_type": "display_data"
    },
    {
     "name": "stderr",
     "output_type": "stream",
     "text": [
      "QObject::moveToThread: Current thread (0x55d588c23940) is not the object's thread (0x55d5889922e0).\n",
      "Cannot move to target thread (0x55d588c23940)\n",
      "\n",
      "QObject::moveToThread: Current thread (0x55d588c23940) is not the object's thread (0x55d5889922e0).\n",
      "Cannot move to target thread (0x55d588c23940)\n",
      "\n",
      "QObject::moveToThread: Current thread (0x55d588c23940) is not the object's thread (0x55d5889922e0).\n",
      "Cannot move to target thread (0x55d588c23940)\n",
      "\n",
      "QObject::moveToThread: Current thread (0x55d588c23940) is not the object's thread (0x55d5889922e0).\n",
      "Cannot move to target thread (0x55d588c23940)\n",
      "\n",
      "QObject::moveToThread: Current thread (0x55d588c23940) is not the object's thread (0x55d5889922e0).\n",
      "Cannot move to target thread (0x55d588c23940)\n",
      "\n",
      "QObject::moveToThread: Current thread (0x55d588c23940) is not the object's thread (0x55d5889922e0).\n",
      "Cannot move to target thread (0x55d588c23940)\n",
      "\n",
      "QObject::moveToThread: Current thread (0x55d588c23940) is not the object's thread (0x55d5889922e0).\n",
      "Cannot move to target thread (0x55d588c23940)\n",
      "\n",
      "QObject::moveToThread: Current thread (0x55d588c23940) is not the object's thread (0x55d5889922e0).\n",
      "Cannot move to target thread (0x55d588c23940)\n",
      "\n",
      "QObject::moveToThread: Current thread (0x55d588c23940) is not the object's thread (0x55d5889922e0).\n",
      "Cannot move to target thread (0x55d588c23940)\n",
      "\n",
      "QObject::moveToThread: Current thread (0x55d588c23940) is not the object's thread (0x55d5889922e0).\n",
      "Cannot move to target thread (0x55d588c23940)\n",
      "\n",
      "QObject::moveToThread: Current thread (0x55d588c23940) is not the object's thread (0x55d5889922e0).\n",
      "Cannot move to target thread (0x55d588c23940)\n",
      "\n",
      "QObject::moveToThread: Current thread (0x55d588c23940) is not the object's thread (0x55d5889922e0).\n",
      "Cannot move to target thread (0x55d588c23940)\n",
      "\n",
      "QObject::moveToThread: Current thread (0x55d588c23940) is not the object's thread (0x55d5889922e0).\n",
      "Cannot move to target thread (0x55d588c23940)\n",
      "\n",
      "QObject::moveToThread: Current thread (0x55d588c23940) is not the object's thread (0x55d5889922e0).\n",
      "Cannot move to target thread (0x55d588c23940)\n",
      "\n",
      "QObject::moveToThread: Current thread (0x55d588c23940) is not the object's thread (0x55d5889922e0).\n",
      "Cannot move to target thread (0x55d588c23940)\n",
      "\n",
      "QObject::moveToThread: Current thread (0x55d588c23940) is not the object's thread (0x55d5889922e0).\n",
      "Cannot move to target thread (0x55d588c23940)\n",
      "\n",
      "QObject::moveToThread: Current thread (0x55d588c23940) is not the object's thread (0x55d5889922e0).\n",
      "Cannot move to target thread (0x55d588c23940)\n",
      "\n",
      "QObject::moveToThread: Current thread (0x55d588c23940) is not the object's thread (0x55d5889922e0).\n",
      "Cannot move to target thread (0x55d588c23940)\n",
      "\n",
      "QObject::moveToThread: Current thread (0x55d588c23940) is not the object's thread (0x55d5889922e0).\n",
      "Cannot move to target thread (0x55d588c23940)\n",
      "\n",
      "QObject::moveToThread: Current thread (0x55d588c23940) is not the object's thread (0x55d5889922e0).\n",
      "Cannot move to target thread (0x55d588c23940)\n",
      "\n",
      "QObject::moveToThread: Current thread (0x55d588c23940) is not the object's thread (0x55d5889922e0).\n",
      "Cannot move to target thread (0x55d588c23940)\n",
      "\n",
      "QObject::moveToThread: Current thread (0x55d588c23940) is not the object's thread (0x55d5889922e0).\n",
      "Cannot move to target thread (0x55d588c23940)\n",
      "\n",
      "QObject::moveToThread: Current thread (0x55d588c23940) is not the object's thread (0x55d5889922e0).\n",
      "Cannot move to target thread (0x55d588c23940)\n",
      "\n",
      "QObject::moveToThread: Current thread (0x55d588c23940) is not the object's thread (0x55d5889922e0).\n",
      "Cannot move to target thread (0x55d588c23940)\n",
      "\n",
      "QObject::moveToThread: Current thread (0x55d588c23940) is not the object's thread (0x55d5889922e0).\n",
      "Cannot move to target thread (0x55d588c23940)\n",
      "\n",
      "QObject::moveToThread: Current thread (0x55d588c23940) is not the object's thread (0x55d5889922e0).\n",
      "Cannot move to target thread (0x55d588c23940)\n",
      "\n",
      "QObject::moveToThread: Current thread (0x55d588c23940) is not the object's thread (0x55d5889922e0).\n",
      "Cannot move to target thread (0x55d588c23940)\n",
      "\n",
      "QObject::moveToThread: Current thread (0x55d588c23940) is not the object's thread (0x55d5889922e0).\n",
      "Cannot move to target thread (0x55d588c23940)\n",
      "\n",
      "QObject::moveToThread: Current thread (0x55d588c23940) is not the object's thread (0x55d5889922e0).\n",
      "Cannot move to target thread (0x55d588c23940)\n",
      "\n",
      "QObject::moveToThread: Current thread (0x55d588c23940) is not the object's thread (0x55d5889922e0).\n",
      "Cannot move to target thread (0x55d588c23940)\n",
      "\n",
      "QObject::moveToThread: Current thread (0x55d588c23940) is not the object's thread (0x55d5889922e0).\n",
      "Cannot move to target thread (0x55d588c23940)\n",
      "\n",
      "QObject::moveToThread: Current thread (0x55d588c23940) is not the object's thread (0x55d5889922e0).\n",
      "Cannot move to target thread (0x55d588c23940)\n",
      "\n",
      "QObject::moveToThread: Current thread (0x55d588c23940) is not the object's thread (0x55d5889922e0).\n",
      "Cannot move to target thread (0x55d588c23940)\n",
      "\n",
      "QObject::moveToThread: Current thread (0x55d588c23940) is not the object's thread (0x55d5889922e0).\n",
      "Cannot move to target thread (0x55d588c23940)\n",
      "\n",
      "QObject::moveToThread: Current thread (0x55d588c23940) is not the object's thread (0x55d5889922e0).\n",
      "Cannot move to target thread (0x55d588c23940)\n",
      "\n",
      "QObject::moveToThread: Current thread (0x55d588c23940) is not the object's thread (0x55d5889922e0).\n",
      "Cannot move to target thread (0x55d588c23940)\n",
      "\n",
      "QObject::moveToThread: Current thread (0x55d588c23940) is not the object's thread (0x55d5889922e0).\n",
      "Cannot move to target thread (0x55d588c23940)\n",
      "\n",
      "QObject::moveToThread: Current thread (0x55d588c23940) is not the object's thread (0x55d5889922e0).\n",
      "Cannot move to target thread (0x55d588c23940)\n",
      "\n",
      "QObject::moveToThread: Current thread (0x55d588c23940) is not the object's thread (0x55d5889922e0).\n",
      "Cannot move to target thread (0x55d588c23940)\n",
      "\n",
      "QObject::moveToThread: Current thread (0x55d588c23940) is not the object's thread (0x55d5889922e0).\n",
      "Cannot move to target thread (0x55d588c23940)\n",
      "\n",
      "QObject::moveToThread: Current thread (0x55d588c23940) is not the object's thread (0x55d5889922e0).\n",
      "Cannot move to target thread (0x55d588c23940)\n",
      "\n",
      "QObject::moveToThread: Current thread (0x55d588c23940) is not the object's thread (0x55d5889922e0).\n",
      "Cannot move to target thread (0x55d588c23940)\n",
      "\n",
      "QObject::moveToThread: Current thread (0x55d588c23940) is not the object's thread (0x55d5889922e0).\n",
      "Cannot move to target thread (0x55d588c23940)\n",
      "\n",
      "QObject::moveToThread: Current thread (0x55d588c23940) is not the object's thread (0x55d5889922e0).\n",
      "Cannot move to target thread (0x55d588c23940)\n",
      "\n",
      "QObject::moveToThread: Current thread (0x55d588c23940) is not the object's thread (0x55d5889922e0).\n",
      "Cannot move to target thread (0x55d588c23940)\n",
      "\n",
      "QObject::moveToThread: Current thread (0x55d588c23940) is not the object's thread (0x55d5889922e0).\n",
      "Cannot move to target thread (0x55d588c23940)\n",
      "\n",
      "QObject::moveToThread: Current thread (0x55d588c23940) is not the object's thread (0x55d5889922e0).\n",
      "Cannot move to target thread (0x55d588c23940)\n",
      "\n",
      "QObject::moveToThread: Current thread (0x55d588c23940) is not the object's thread (0x55d5889922e0).\n",
      "Cannot move to target thread (0x55d588c23940)\n",
      "\n",
      "QObject::moveToThread: Current thread (0x55d588c23940) is not the object's thread (0x55d5889922e0).\n",
      "Cannot move to target thread (0x55d588c23940)\n",
      "\n",
      "QObject::moveToThread: Current thread (0x55d588c23940) is not the object's thread (0x55d5889922e0).\n",
      "Cannot move to target thread (0x55d588c23940)\n",
      "\n",
      "QObject::moveToThread: Current thread (0x55d588c23940) is not the object's thread (0x55d5889922e0).\n",
      "Cannot move to target thread (0x55d588c23940)\n",
      "\n",
      "QObject::moveToThread: Current thread (0x55d588c23940) is not the object's thread (0x55d5889922e0).\n",
      "Cannot move to target thread (0x55d588c23940)\n",
      "\n",
      "QObject::moveToThread: Current thread (0x55d588c23940) is not the object's thread (0x55d5889922e0).\n",
      "Cannot move to target thread (0x55d588c23940)\n",
      "\n",
      "QObject::moveToThread: Current thread (0x55d588c23940) is not the object's thread (0x55d5889922e0).\n",
      "Cannot move to target thread (0x55d588c23940)\n",
      "\n",
      "QObject::moveToThread: Current thread (0x55d588c23940) is not the object's thread (0x55d5889922e0).\n",
      "Cannot move to target thread (0x55d588c23940)\n",
      "\n",
      "QObject::moveToThread: Current thread (0x55d588c23940) is not the object's thread (0x55d5889922e0).\n",
      "Cannot move to target thread (0x55d588c23940)\n",
      "\n",
      "QObject::moveToThread: Current thread (0x55d588c23940) is not the object's thread (0x55d5889922e0).\n",
      "Cannot move to target thread (0x55d588c23940)\n",
      "\n",
      "QObject::moveToThread: Current thread (0x55d588c23940) is not the object's thread (0x55d5889922e0).\n",
      "Cannot move to target thread (0x55d588c23940)\n",
      "\n",
      "QObject::moveToThread: Current thread (0x55d588c23940) is not the object's thread (0x55d5889922e0).\n",
      "Cannot move to target thread (0x55d588c23940)\n",
      "\n",
      "QObject::moveToThread: Current thread (0x55d588c23940) is not the object's thread (0x55d5889922e0).\n",
      "Cannot move to target thread (0x55d588c23940)\n",
      "\n",
      "QObject::moveToThread: Current thread (0x55d588c23940) is not the object's thread (0x55d5889922e0).\n",
      "Cannot move to target thread (0x55d588c23940)\n",
      "\n",
      "QObject::moveToThread: Current thread (0x55d588c23940) is not the object's thread (0x55d5889922e0).\n",
      "Cannot move to target thread (0x55d588c23940)\n",
      "\n",
      "QObject::moveToThread: Current thread (0x55d588c23940) is not the object's thread (0x55d5889922e0).\n",
      "Cannot move to target thread (0x55d588c23940)\n",
      "\n",
      "QObject::moveToThread: Current thread (0x55d588c23940) is not the object's thread (0x55d5889922e0).\n",
      "Cannot move to target thread (0x55d588c23940)\n",
      "\n",
      "QObject::moveToThread: Current thread (0x55d588c23940) is not the object's thread (0x55d5889922e0).\n",
      "Cannot move to target thread (0x55d588c23940)\n",
      "\n",
      "QObject::moveToThread: Current thread (0x55d588c23940) is not the object's thread (0x55d5889922e0).\n",
      "Cannot move to target thread (0x55d588c23940)\n",
      "\n",
      "QObject::moveToThread: Current thread (0x55d588c23940) is not the object's thread (0x55d5889922e0).\n",
      "Cannot move to target thread (0x55d588c23940)\n",
      "\n",
      "QObject::moveToThread: Current thread (0x55d588c23940) is not the object's thread (0x55d5889922e0).\n",
      "Cannot move to target thread (0x55d588c23940)\n",
      "\n",
      "QObject::moveToThread: Current thread (0x55d588c23940) is not the object's thread (0x55d5889922e0).\n",
      "Cannot move to target thread (0x55d588c23940)\n",
      "\n",
      "QObject::moveToThread: Current thread (0x55d588c23940) is not the object's thread (0x55d5889922e0).\n",
      "Cannot move to target thread (0x55d588c23940)\n",
      "\n",
      "QObject::moveToThread: Current thread (0x55d588c23940) is not the object's thread (0x55d5889922e0).\n",
      "Cannot move to target thread (0x55d588c23940)\n",
      "\n",
      "QObject::moveToThread: Current thread (0x55d588c23940) is not the object's thread (0x55d5889922e0).\n",
      "Cannot move to target thread (0x55d588c23940)\n",
      "\n",
      "QObject::moveToThread: Current thread (0x55d588c23940) is not the object's thread (0x55d5889922e0).\n",
      "Cannot move to target thread (0x55d588c23940)\n",
      "\n",
      "QObject::moveToThread: Current thread (0x55d588c23940) is not the object's thread (0x55d5889922e0).\n",
      "Cannot move to target thread (0x55d588c23940)\n",
      "\n",
      "QObject::moveToThread: Current thread (0x55d588c23940) is not the object's thread (0x55d5889922e0).\n",
      "Cannot move to target thread (0x55d588c23940)\n",
      "\n",
      "QObject::moveToThread: Current thread (0x55d588c23940) is not the object's thread (0x55d5889922e0).\n",
      "Cannot move to target thread (0x55d588c23940)\n",
      "\n",
      "QObject::moveToThread: Current thread (0x55d588c23940) is not the object's thread (0x55d5889922e0).\n",
      "Cannot move to target thread (0x55d588c23940)\n",
      "\n",
      "QObject::moveToThread: Current thread (0x55d588c23940) is not the object's thread (0x55d5889922e0).\n",
      "Cannot move to target thread (0x55d588c23940)\n",
      "\n",
      "QObject::moveToThread: Current thread (0x55d588c23940) is not the object's thread (0x55d5889922e0).\n",
      "Cannot move to target thread (0x55d588c23940)\n",
      "\n",
      "QObject::moveToThread: Current thread (0x55d588c23940) is not the object's thread (0x55d5889922e0).\n",
      "Cannot move to target thread (0x55d588c23940)\n",
      "\n",
      "QObject::moveToThread: Current thread (0x55d588c23940) is not the object's thread (0x55d5889922e0).\n",
      "Cannot move to target thread (0x55d588c23940)\n",
      "\n",
      "QObject::moveToThread: Current thread (0x55d588c23940) is not the object's thread (0x55d5889922e0).\n",
      "Cannot move to target thread (0x55d588c23940)\n",
      "\n",
      "QObject::moveToThread: Current thread (0x55d588c23940) is not the object's thread (0x55d5889922e0).\n",
      "Cannot move to target thread (0x55d588c23940)\n",
      "\n",
      "QObject::moveToThread: Current thread (0x55d588c23940) is not the object's thread (0x55d5889922e0).\n",
      "Cannot move to target thread (0x55d588c23940)\n",
      "\n",
      "QObject::moveToThread: Current thread (0x55d588c23940) is not the object's thread (0x55d5889922e0).\n",
      "Cannot move to target thread (0x55d588c23940)\n",
      "\n",
      "QObject::moveToThread: Current thread (0x55d588c23940) is not the object's thread (0x55d5889922e0).\n",
      "Cannot move to target thread (0x55d588c23940)\n",
      "\n",
      "QObject::moveToThread: Current thread (0x55d588c23940) is not the object's thread (0x55d5889922e0).\n",
      "Cannot move to target thread (0x55d588c23940)\n",
      "\n",
      "QObject::moveToThread: Current thread (0x55d588c23940) is not the object's thread (0x55d5889922e0).\n",
      "Cannot move to target thread (0x55d588c23940)\n",
      "\n",
      "QObject::moveToThread: Current thread (0x55d588c23940) is not the object's thread (0x55d5889922e0).\n",
      "Cannot move to target thread (0x55d588c23940)\n",
      "\n",
      "QObject::moveToThread: Current thread (0x55d588c23940) is not the object's thread (0x55d5889922e0).\n",
      "Cannot move to target thread (0x55d588c23940)\n",
      "\n",
      "QObject::moveToThread: Current thread (0x55d588c23940) is not the object's thread (0x55d5889922e0).\n",
      "Cannot move to target thread (0x55d588c23940)\n",
      "\n",
      "QObject::moveToThread: Current thread (0x55d588c23940) is not the object's thread (0x55d5889922e0).\n",
      "Cannot move to target thread (0x55d588c23940)\n",
      "\n",
      "QObject::moveToThread: Current thread (0x55d588c23940) is not the object's thread (0x55d5889922e0).\n",
      "Cannot move to target thread (0x55d588c23940)\n",
      "\n",
      "QObject::moveToThread: Current thread (0x55d588c23940) is not the object's thread (0x55d5889922e0).\n",
      "Cannot move to target thread (0x55d588c23940)\n",
      "\n",
      "QObject::moveToThread: Current thread (0x55d588c23940) is not the object's thread (0x55d5889922e0).\n",
      "Cannot move to target thread (0x55d588c23940)\n",
      "\n",
      "QObject::moveToThread: Current thread (0x55d588c23940) is not the object's thread (0x55d5889922e0).\n",
      "Cannot move to target thread (0x55d588c23940)\n",
      "\n",
      "QObject::moveToThread: Current thread (0x55d588c23940) is not the object's thread (0x55d5889922e0).\n",
      "Cannot move to target thread (0x55d588c23940)\n",
      "\n",
      "QObject::moveToThread: Current thread (0x55d588c23940) is not the object's thread (0x55d5889922e0).\n",
      "Cannot move to target thread (0x55d588c23940)\n",
      "\n",
      "QObject::moveToThread: Current thread (0x55d588c23940) is not the object's thread (0x55d5889922e0).\n",
      "Cannot move to target thread (0x55d588c23940)\n",
      "\n",
      "QObject::moveToThread: Current thread (0x55d588c23940) is not the object's thread (0x55d5889922e0).\n",
      "Cannot move to target thread (0x55d588c23940)\n",
      "\n",
      "QObject::moveToThread: Current thread (0x55d588c23940) is not the object's thread (0x55d5889922e0).\n",
      "Cannot move to target thread (0x55d588c23940)\n",
      "\n",
      "QObject::moveToThread: Current thread (0x55d588c23940) is not the object's thread (0x55d5889922e0).\n",
      "Cannot move to target thread (0x55d588c23940)\n",
      "\n",
      "QObject::moveToThread: Current thread (0x55d588c23940) is not the object's thread (0x55d5889922e0).\n",
      "Cannot move to target thread (0x55d588c23940)\n",
      "\n",
      "QObject::moveToThread: Current thread (0x55d588c23940) is not the object's thread (0x55d5889922e0).\n",
      "Cannot move to target thread (0x55d588c23940)\n",
      "\n",
      "QObject::moveToThread: Current thread (0x55d588c23940) is not the object's thread (0x55d5889922e0).\n",
      "Cannot move to target thread (0x55d588c23940)\n",
      "\n",
      "QObject::moveToThread: Current thread (0x55d588c23940) is not the object's thread (0x55d5889922e0).\n",
      "Cannot move to target thread (0x55d588c23940)\n",
      "\n",
      "QObject::moveToThread: Current thread (0x55d588c23940) is not the object's thread (0x55d5889922e0).\n",
      "Cannot move to target thread (0x55d588c23940)\n",
      "\n",
      "QObject::moveToThread: Current thread (0x55d588c23940) is not the object's thread (0x55d5889922e0).\n",
      "Cannot move to target thread (0x55d588c23940)\n",
      "\n",
      "QObject::moveToThread: Current thread (0x55d588c23940) is not the object's thread (0x55d5889922e0).\n",
      "Cannot move to target thread (0x55d588c23940)\n",
      "\n",
      "QObject::moveToThread: Current thread (0x55d588c23940) is not the object's thread (0x55d5889922e0).\n",
      "Cannot move to target thread (0x55d588c23940)\n",
      "\n",
      "QObject::moveToThread: Current thread (0x55d588c23940) is not the object's thread (0x55d5889922e0).\n",
      "Cannot move to target thread (0x55d588c23940)\n",
      "\n",
      "QObject::moveToThread: Current thread (0x55d588c23940) is not the object's thread (0x55d5889922e0).\n",
      "Cannot move to target thread (0x55d588c23940)\n",
      "\n",
      "QObject::moveToThread: Current thread (0x55d588c23940) is not the object's thread (0x55d5889922e0).\n",
      "Cannot move to target thread (0x55d588c23940)\n",
      "\n",
      "QObject::moveToThread: Current thread (0x55d588c23940) is not the object's thread (0x55d5889922e0).\n",
      "Cannot move to target thread (0x55d588c23940)\n",
      "\n",
      "QObject::moveToThread: Current thread (0x55d588c23940) is not the object's thread (0x55d5889922e0).\n",
      "Cannot move to target thread (0x55d588c23940)\n",
      "\n",
      "QObject::moveToThread: Current thread (0x55d588c23940) is not the object's thread (0x55d5889922e0).\n",
      "Cannot move to target thread (0x55d588c23940)\n",
      "\n",
      "QObject::moveToThread: Current thread (0x55d588c23940) is not the object's thread (0x55d5889922e0).\n",
      "Cannot move to target thread (0x55d588c23940)\n",
      "\n",
      "QObject::moveToThread: Current thread (0x55d588c23940) is not the object's thread (0x55d5889922e0).\n",
      "Cannot move to target thread (0x55d588c23940)\n",
      "\n",
      "QObject::moveToThread: Current thread (0x55d588c23940) is not the object's thread (0x55d5889922e0).\n",
      "Cannot move to target thread (0x55d588c23940)\n",
      "\n",
      "QObject::moveToThread: Current thread (0x55d588c23940) is not the object's thread (0x55d5889922e0).\n",
      "Cannot move to target thread (0x55d588c23940)\n",
      "\n",
      "QObject::moveToThread: Current thread (0x55d588c23940) is not the object's thread (0x55d5889922e0).\n",
      "Cannot move to target thread (0x55d588c23940)\n",
      "\n",
      "QObject::moveToThread: Current thread (0x55d588c23940) is not the object's thread (0x55d5889922e0).\n",
      "Cannot move to target thread (0x55d588c23940)\n",
      "\n",
      "QObject::moveToThread: Current thread (0x55d588c23940) is not the object's thread (0x55d5889922e0).\n",
      "Cannot move to target thread (0x55d588c23940)\n",
      "\n",
      "QObject::moveToThread: Current thread (0x55d588c23940) is not the object's thread (0x55d5889922e0).\n",
      "Cannot move to target thread (0x55d588c23940)\n",
      "\n",
      "QObject::moveToThread: Current thread (0x55d588c23940) is not the object's thread (0x55d5889922e0).\n",
      "Cannot move to target thread (0x55d588c23940)\n",
      "\n",
      "QObject::moveToThread: Current thread (0x55d588c23940) is not the object's thread (0x55d5889922e0).\n",
      "Cannot move to target thread (0x55d588c23940)\n",
      "\n",
      "QObject::moveToThread: Current thread (0x55d588c23940) is not the object's thread (0x55d5889922e0).\n",
      "Cannot move to target thread (0x55d588c23940)\n",
      "\n",
      "QObject::moveToThread: Current thread (0x55d588c23940) is not the object's thread (0x55d5889922e0).\n",
      "Cannot move to target thread (0x55d588c23940)\n",
      "\n",
      "QObject::moveToThread: Current thread (0x55d588c23940) is not the object's thread (0x55d5889922e0).\n",
      "Cannot move to target thread (0x55d588c23940)\n",
      "\n",
      "QObject::moveToThread: Current thread (0x55d588c23940) is not the object's thread (0x55d5889922e0).\n",
      "Cannot move to target thread (0x55d588c23940)\n",
      "\n"
     ]
    },
    {
     "data": {
      "text/plain": "<Figure size 432x288 with 1 Axes>",
      "image/png": "[encoded data removed]"
     },
     "metadata": {
      "needs_background": "light"
     },
     "output_type": "display_data"
    },
    {
     "data": {
      "text/plain": "<Figure size 432x288 with 1 Axes>",
      "image/png": "[encoded data removed]"
     },
     "metadata": {
      "needs_background": "light"
     },
     "output_type": "display_data"
    },
    {
     "data": {
      "text/plain": "<Figure size 432x288 with 1 Axes>",
      "image/png": "[encoded data removed]"
     },
     "metadata": {
      "needs_background": "light"
     },
     "output_type": "display_data"
    },
    {
     "data": {
      "text/plain": "<Figure size 432x288 with 1 Axes>",
      "image/png": "[encoded data removed]"
     },
     "metadata": {
      "needs_background": "light"
     },
     "output_type": "display_data"
    },
    {
     "data": {
      "text/plain": "<Figure size 432x288 with 1 Axes>",
      "image/png": "[encoded data removed]"
     },
     "metadata": {
      "needs_background": "light"
     },
     "output_type": "display_data"
    },
    {
     "data": {
      "text/plain": "<Figure size 432x288 with 1 Axes>",
      "image/png": "[encoded data removed]"
     },
     "metadata": {
      "needs_background": "light"
     },
     "output_type": "display_data"
    },
    {
     "data": {
      "text/plain": "<Figure size 432x288 with 1 Axes>",
      "image/png": "[encoded data removed]"
     },
     "metadata": {
      "needs_background": "light"
     },
     "output_type": "display_data"
    },
    {
     "data": {
      "text/plain": "<Figure size 432x288 with 1 Axes>",
      "image/png": "[encoded data removed]"
     },
     "metadata": {
      "needs_background": "light"
     },
     "output_type": "display_data"
    }
   ],
   "source": [
    "make_gif('running_competition', 'df729fab57ec4fbe97ca70c073053728', '0158001')"
   ]
  }
 ],
 "metadata": {
  "interpreter": {
   "hash": "5edc5171bde170568d9b218d33d0e3dc4de16dbdd983c2ff34b21341823ff124"
  },
  "kernelspec": {
   "display_name": "Python 3.8.5 64-bit ('pydreamer': conda)",
   "language": "python",
   "name": "python3"
  },
  "language_info": {
   "codemirror_mode": {
    "name": "ipython",
    "version": 3
   },
   "file_extension": ".py",
   "mimetype": "text/x-python",
   "name": "python",
   "nbconvert_exporter": "python",
   "pygments_lexer": "ipython3",
   "version": "3.8.5"
  },
  "orig_nbformat": 4
 },
 "nbformat": 4,
 "nbformat_minor": 2
}